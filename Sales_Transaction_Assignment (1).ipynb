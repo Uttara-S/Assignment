{
 "cells": [
  {
   "cell_type": "markdown",
   "id": "fad1020e-6415-4e4e-8a09-d5bca5afb6d8",
   "metadata": {},
   "source": [
    "# SALES TRANSACTION ASSIGNMENT"
   ]
  },
  {
   "cell_type": "markdown",
   "id": "0a18869e-2179-4bd7-a20a-d2b309b9f8ec",
   "metadata": {},
   "source": [
    "## Importing the Libraries"
   ]
  },
  {
   "cell_type": "code",
   "execution_count": 1,
   "id": "2cf4580a-44c9-4305-8d02-20c78e721df3",
   "metadata": {},
   "outputs": [],
   "source": [
    "import numpy as np\n",
    "import pandas as pd\n",
    "import matplotlib.pyplot as plt\n",
    "import seaborn as sns"
   ]
  },
  {
   "cell_type": "markdown",
   "id": "82582c24-de62-4f77-a26d-2085760b6ebc",
   "metadata": {},
   "source": [
    "## Loading the Dataset"
   ]
  },
  {
   "cell_type": "code",
   "execution_count": 2,
   "id": "fab6e186-a4d6-4185-8e37-72d5b724f88c",
   "metadata": {},
   "outputs": [
    {
     "data": {
      "text/html": [
       "<div>\n",
       "<style scoped>\n",
       "    .dataframe tbody tr th:only-of-type {\n",
       "        vertical-align: middle;\n",
       "    }\n",
       "\n",
       "    .dataframe tbody tr th {\n",
       "        vertical-align: top;\n",
       "    }\n",
       "\n",
       "    .dataframe thead th {\n",
       "        text-align: right;\n",
       "    }\n",
       "</style>\n",
       "<table border=\"1\" class=\"dataframe\">\n",
       "  <thead>\n",
       "    <tr style=\"text-align: right;\">\n",
       "      <th></th>\n",
       "      <th>TransactionID</th>\n",
       "      <th>CustomerID</th>\n",
       "      <th>TransactionDate</th>\n",
       "      <th>ProductID</th>\n",
       "      <th>ProductCategory</th>\n",
       "      <th>Quantity</th>\n",
       "      <th>PricePerUnit</th>\n",
       "      <th>TotalAmount</th>\n",
       "      <th>TrustPointsUsed</th>\n",
       "      <th>PaymentMethod</th>\n",
       "      <th>DiscountApplied</th>\n",
       "    </tr>\n",
       "  </thead>\n",
       "  <tbody>\n",
       "    <tr>\n",
       "      <th>0</th>\n",
       "      <td>1</td>\n",
       "      <td>1002.0</td>\n",
       "      <td>08/08/24 22:00</td>\n",
       "      <td>2008</td>\n",
       "      <td>Grocery</td>\n",
       "      <td>1</td>\n",
       "      <td>10.0</td>\n",
       "      <td>10.0</td>\n",
       "      <td>20</td>\n",
       "      <td>Trust Points</td>\n",
       "      <td>5.0</td>\n",
       "    </tr>\n",
       "    <tr>\n",
       "      <th>1</th>\n",
       "      <td>2</td>\n",
       "      <td>NaN</td>\n",
       "      <td>07/08/24 1:00</td>\n",
       "      <td>2004</td>\n",
       "      <td>Home Decor</td>\n",
       "      <td>1</td>\n",
       "      <td>10.0</td>\n",
       "      <td>10.0</td>\n",
       "      <td>0</td>\n",
       "      <td>Credit Card</td>\n",
       "      <td>20.0</td>\n",
       "    </tr>\n",
       "    <tr>\n",
       "      <th>2</th>\n",
       "      <td>3</td>\n",
       "      <td>1004.0</td>\n",
       "      <td>02/08/24 19:00</td>\n",
       "      <td>2002</td>\n",
       "      <td>Grocery</td>\n",
       "      <td>3</td>\n",
       "      <td>30.0</td>\n",
       "      <td>90.0</td>\n",
       "      <td>0</td>\n",
       "      <td>Credit Card</td>\n",
       "      <td>25.0</td>\n",
       "    </tr>\n",
       "    <tr>\n",
       "      <th>3</th>\n",
       "      <td>2</td>\n",
       "      <td>1003.0</td>\n",
       "      <td>07/08/24 17:00</td>\n",
       "      <td>2001</td>\n",
       "      <td>Toys</td>\n",
       "      <td>2</td>\n",
       "      <td>30.0</td>\n",
       "      <td>60.0</td>\n",
       "      <td>50</td>\n",
       "      <td>NaN</td>\n",
       "      <td>20.0</td>\n",
       "    </tr>\n",
       "    <tr>\n",
       "      <th>4</th>\n",
       "      <td>5</td>\n",
       "      <td>1001.0</td>\n",
       "      <td>09/08/24 9:00</td>\n",
       "      <td>2008</td>\n",
       "      <td>Grocery</td>\n",
       "      <td>1</td>\n",
       "      <td>NaN</td>\n",
       "      <td>NaN</td>\n",
       "      <td>20</td>\n",
       "      <td>Trust Points</td>\n",
       "      <td>5.0</td>\n",
       "    </tr>\n",
       "    <tr>\n",
       "      <th>5</th>\n",
       "      <td>6</td>\n",
       "      <td>1001.0</td>\n",
       "      <td>NaN</td>\n",
       "      <td>2007</td>\n",
       "      <td>Home Decor</td>\n",
       "      <td>1</td>\n",
       "      <td>NaN</td>\n",
       "      <td>NaN</td>\n",
       "      <td>20</td>\n",
       "      <td>Credit Card</td>\n",
       "      <td>NaN</td>\n",
       "    </tr>\n",
       "    <tr>\n",
       "      <th>6</th>\n",
       "      <td>7</td>\n",
       "      <td>1001.0</td>\n",
       "      <td>01/08/24 13:00</td>\n",
       "      <td>2007</td>\n",
       "      <td>Home Decor</td>\n",
       "      <td>-1</td>\n",
       "      <td>30.0</td>\n",
       "      <td>-30.0</td>\n",
       "      <td>-10</td>\n",
       "      <td>NaN</td>\n",
       "      <td>NaN</td>\n",
       "    </tr>\n",
       "    <tr>\n",
       "      <th>7</th>\n",
       "      <td>8</td>\n",
       "      <td>1005.0</td>\n",
       "      <td>04/08/24 22:00</td>\n",
       "      <td>2006</td>\n",
       "      <td>Toys</td>\n",
       "      <td>1</td>\n",
       "      <td>50.0</td>\n",
       "      <td>50.0</td>\n",
       "      <td>-10</td>\n",
       "      <td>Trust Points</td>\n",
       "      <td>30.0</td>\n",
       "    </tr>\n",
       "    <tr>\n",
       "      <th>8</th>\n",
       "      <td>9</td>\n",
       "      <td>1004.0</td>\n",
       "      <td>02/08/24 23:00</td>\n",
       "      <td>2008</td>\n",
       "      <td>Fashion</td>\n",
       "      <td>1</td>\n",
       "      <td>NaN</td>\n",
       "      <td>NaN</td>\n",
       "      <td>-10</td>\n",
       "      <td>NaN</td>\n",
       "      <td>NaN</td>\n",
       "    </tr>\n",
       "    <tr>\n",
       "      <th>9</th>\n",
       "      <td>10</td>\n",
       "      <td>1004.0</td>\n",
       "      <td>01/08/24 14:00</td>\n",
       "      <td>2005</td>\n",
       "      <td>Fashion</td>\n",
       "      <td>2</td>\n",
       "      <td>500.0</td>\n",
       "      <td>1000.0</td>\n",
       "      <td>-10</td>\n",
       "      <td>Cash</td>\n",
       "      <td>30.0</td>\n",
       "    </tr>\n",
       "  </tbody>\n",
       "</table>\n",
       "</div>"
      ],
      "text/plain": [
       "   TransactionID  CustomerID TransactionDate  ProductID ProductCategory  \\\n",
       "0              1      1002.0  08/08/24 22:00       2008         Grocery   \n",
       "1              2         NaN   07/08/24 1:00       2004      Home Decor   \n",
       "2              3      1004.0  02/08/24 19:00       2002         Grocery   \n",
       "3              2      1003.0  07/08/24 17:00       2001            Toys   \n",
       "4              5      1001.0   09/08/24 9:00       2008         Grocery   \n",
       "5              6      1001.0             NaN       2007      Home Decor   \n",
       "6              7      1001.0  01/08/24 13:00       2007      Home Decor   \n",
       "7              8      1005.0  04/08/24 22:00       2006            Toys   \n",
       "8              9      1004.0  02/08/24 23:00       2008         Fashion   \n",
       "9             10      1004.0  01/08/24 14:00       2005         Fashion   \n",
       "\n",
       "   Quantity  PricePerUnit  TotalAmount  TrustPointsUsed PaymentMethod  \\\n",
       "0         1          10.0         10.0               20  Trust Points   \n",
       "1         1          10.0         10.0                0   Credit Card   \n",
       "2         3          30.0         90.0                0   Credit Card   \n",
       "3         2          30.0         60.0               50           NaN   \n",
       "4         1           NaN          NaN               20  Trust Points   \n",
       "5         1           NaN          NaN               20   Credit Card   \n",
       "6        -1          30.0        -30.0              -10           NaN   \n",
       "7         1          50.0         50.0              -10  Trust Points   \n",
       "8         1           NaN          NaN              -10           NaN   \n",
       "9         2         500.0       1000.0              -10          Cash   \n",
       "\n",
       "   DiscountApplied  \n",
       "0              5.0  \n",
       "1             20.0  \n",
       "2             25.0  \n",
       "3             20.0  \n",
       "4              5.0  \n",
       "5              NaN  \n",
       "6              NaN  \n",
       "7             30.0  \n",
       "8              NaN  \n",
       "9             30.0  "
      ]
     },
     "execution_count": 2,
     "metadata": {},
     "output_type": "execute_result"
    }
   ],
   "source": [
    "df = pd.read_csv(r\"C:\\Users\\User\\Downloads\\Data Source (sales_transactions).csv\")\n",
    "df.head(10)"
   ]
  },
  {
   "cell_type": "markdown",
   "id": "27dd72eb-7e5d-4170-b79f-c5eecc96c5e2",
   "metadata": {},
   "source": [
    "## Exploratory Data Analysis"
   ]
  },
  {
   "cell_type": "code",
   "execution_count": 3,
   "id": "c1be5326-852e-41fd-b7a4-e38809c3c727",
   "metadata": {},
   "outputs": [
    {
     "data": {
      "text/plain": [
       "(50, 11)"
      ]
     },
     "execution_count": 3,
     "metadata": {},
     "output_type": "execute_result"
    }
   ],
   "source": [
    "df.shape"
   ]
  },
  {
   "cell_type": "markdown",
   "id": "16996c8d-5278-4f4e-946a-a82f29c43a25",
   "metadata": {},
   "source": [
    "The Dataset has 50 rows and 11 columns."
   ]
  },
  {
   "cell_type": "code",
   "execution_count": 4,
   "id": "811b9baf-6da1-41a6-b29c-71f2845c8cef",
   "metadata": {},
   "outputs": [
    {
     "name": "stdout",
     "output_type": "stream",
     "text": [
      "<class 'pandas.core.frame.DataFrame'>\n",
      "RangeIndex: 50 entries, 0 to 49\n",
      "Data columns (total 11 columns):\n",
      " #   Column           Non-Null Count  Dtype  \n",
      "---  ------           --------------  -----  \n",
      " 0   TransactionID    50 non-null     int64  \n",
      " 1   CustomerID       45 non-null     float64\n",
      " 2   TransactionDate  49 non-null     object \n",
      " 3   ProductID        50 non-null     int64  \n",
      " 4   ProductCategory  50 non-null     object \n",
      " 5   Quantity         50 non-null     int64  \n",
      " 6   PricePerUnit     36 non-null     float64\n",
      " 7   TotalAmount      36 non-null     float64\n",
      " 8   TrustPointsUsed  50 non-null     int64  \n",
      " 9   PaymentMethod    40 non-null     object \n",
      " 10  DiscountApplied  45 non-null     float64\n",
      "dtypes: float64(4), int64(4), object(3)\n",
      "memory usage: 4.4+ KB\n"
     ]
    }
   ],
   "source": [
    "df.info()"
   ]
  },
  {
   "cell_type": "code",
   "execution_count": 5,
   "id": "fa3de6da-13b9-4c29-90e2-5589bb93c0d1",
   "metadata": {},
   "outputs": [
    {
     "data": {
      "text/plain": [
       "TransactionID       0\n",
       "CustomerID          5\n",
       "TransactionDate     1\n",
       "ProductID           0\n",
       "ProductCategory     0\n",
       "Quantity            0\n",
       "PricePerUnit       14\n",
       "TotalAmount        14\n",
       "TrustPointsUsed     0\n",
       "PaymentMethod      10\n",
       "DiscountApplied     5\n",
       "dtype: int64"
      ]
     },
     "execution_count": 5,
     "metadata": {},
     "output_type": "execute_result"
    }
   ],
   "source": [
    "df.isnull().sum()"
   ]
  },
  {
   "cell_type": "markdown",
   "id": "577ef21b-cb11-42d8-b511-0a689b730f29",
   "metadata": {},
   "source": [
    "Missing Data:\n",
    "\n",
    "- There are 5 null values in CustomerID column.\n",
    "- There is 1 missing Transaction Date.\n",
    "- There are 14 missing values in the TotalAmount & PricePerUnit column.\n",
    "- There are 10 null values in the PaymentMethod column.\n",
    "- There are 5 missing values in DiscountApplied column.\n",
    "\n",
    "The TransactionDate is of data type \"object\". So, we will change the data type to \"datetime\"."
   ]
  },
  {
   "cell_type": "code",
   "execution_count": 6,
   "id": "c7658a0a-0f83-4035-a4a0-86de53ef831e",
   "metadata": {},
   "outputs": [],
   "source": [
    "df['TransactionDate'] = pd.to_datetime(df['TransactionDate'], format = 'mixed', dayfirst=True)"
   ]
  },
  {
   "cell_type": "code",
   "execution_count": 7,
   "id": "3ef0edda-c33d-4c2e-bf22-937891b18978",
   "metadata": {},
   "outputs": [
    {
     "data": {
      "text/html": [
       "<div>\n",
       "<style scoped>\n",
       "    .dataframe tbody tr th:only-of-type {\n",
       "        vertical-align: middle;\n",
       "    }\n",
       "\n",
       "    .dataframe tbody tr th {\n",
       "        vertical-align: top;\n",
       "    }\n",
       "\n",
       "    .dataframe thead th {\n",
       "        text-align: right;\n",
       "    }\n",
       "</style>\n",
       "<table border=\"1\" class=\"dataframe\">\n",
       "  <thead>\n",
       "    <tr style=\"text-align: right;\">\n",
       "      <th></th>\n",
       "      <th>TransactionID</th>\n",
       "      <th>CustomerID</th>\n",
       "      <th>TransactionDate</th>\n",
       "      <th>ProductID</th>\n",
       "      <th>ProductCategory</th>\n",
       "      <th>Quantity</th>\n",
       "      <th>PricePerUnit</th>\n",
       "      <th>TotalAmount</th>\n",
       "      <th>TrustPointsUsed</th>\n",
       "      <th>PaymentMethod</th>\n",
       "      <th>DiscountApplied</th>\n",
       "    </tr>\n",
       "  </thead>\n",
       "  <tbody>\n",
       "    <tr>\n",
       "      <th>0</th>\n",
       "      <td>1</td>\n",
       "      <td>1002.0</td>\n",
       "      <td>2024-08-08 22:00:00</td>\n",
       "      <td>2008</td>\n",
       "      <td>Grocery</td>\n",
       "      <td>1</td>\n",
       "      <td>10.0</td>\n",
       "      <td>10.0</td>\n",
       "      <td>20</td>\n",
       "      <td>Trust Points</td>\n",
       "      <td>5.0</td>\n",
       "    </tr>\n",
       "    <tr>\n",
       "      <th>1</th>\n",
       "      <td>2</td>\n",
       "      <td>NaN</td>\n",
       "      <td>2024-08-07 01:00:00</td>\n",
       "      <td>2004</td>\n",
       "      <td>Home Decor</td>\n",
       "      <td>1</td>\n",
       "      <td>10.0</td>\n",
       "      <td>10.0</td>\n",
       "      <td>0</td>\n",
       "      <td>Credit Card</td>\n",
       "      <td>20.0</td>\n",
       "    </tr>\n",
       "    <tr>\n",
       "      <th>2</th>\n",
       "      <td>3</td>\n",
       "      <td>1004.0</td>\n",
       "      <td>2024-08-02 19:00:00</td>\n",
       "      <td>2002</td>\n",
       "      <td>Grocery</td>\n",
       "      <td>3</td>\n",
       "      <td>30.0</td>\n",
       "      <td>90.0</td>\n",
       "      <td>0</td>\n",
       "      <td>Credit Card</td>\n",
       "      <td>25.0</td>\n",
       "    </tr>\n",
       "    <tr>\n",
       "      <th>3</th>\n",
       "      <td>2</td>\n",
       "      <td>1003.0</td>\n",
       "      <td>2024-08-07 17:00:00</td>\n",
       "      <td>2001</td>\n",
       "      <td>Toys</td>\n",
       "      <td>2</td>\n",
       "      <td>30.0</td>\n",
       "      <td>60.0</td>\n",
       "      <td>50</td>\n",
       "      <td>NaN</td>\n",
       "      <td>20.0</td>\n",
       "    </tr>\n",
       "    <tr>\n",
       "      <th>4</th>\n",
       "      <td>5</td>\n",
       "      <td>1001.0</td>\n",
       "      <td>2024-08-09 09:00:00</td>\n",
       "      <td>2008</td>\n",
       "      <td>Grocery</td>\n",
       "      <td>1</td>\n",
       "      <td>NaN</td>\n",
       "      <td>NaN</td>\n",
       "      <td>20</td>\n",
       "      <td>Trust Points</td>\n",
       "      <td>5.0</td>\n",
       "    </tr>\n",
       "  </tbody>\n",
       "</table>\n",
       "</div>"
      ],
      "text/plain": [
       "   TransactionID  CustomerID     TransactionDate  ProductID ProductCategory  \\\n",
       "0              1      1002.0 2024-08-08 22:00:00       2008         Grocery   \n",
       "1              2         NaN 2024-08-07 01:00:00       2004      Home Decor   \n",
       "2              3      1004.0 2024-08-02 19:00:00       2002         Grocery   \n",
       "3              2      1003.0 2024-08-07 17:00:00       2001            Toys   \n",
       "4              5      1001.0 2024-08-09 09:00:00       2008         Grocery   \n",
       "\n",
       "   Quantity  PricePerUnit  TotalAmount  TrustPointsUsed PaymentMethod  \\\n",
       "0         1          10.0         10.0               20  Trust Points   \n",
       "1         1          10.0         10.0                0   Credit Card   \n",
       "2         3          30.0         90.0                0   Credit Card   \n",
       "3         2          30.0         60.0               50           NaN   \n",
       "4         1           NaN          NaN               20  Trust Points   \n",
       "\n",
       "   DiscountApplied  \n",
       "0              5.0  \n",
       "1             20.0  \n",
       "2             25.0  \n",
       "3             20.0  \n",
       "4              5.0  "
      ]
     },
     "execution_count": 7,
     "metadata": {},
     "output_type": "execute_result"
    }
   ],
   "source": [
    "df.head(5)"
   ]
  },
  {
   "cell_type": "code",
   "execution_count": 8,
   "id": "cb56088a-39b6-449a-bfdb-1c3960d74607",
   "metadata": {},
   "outputs": [
    {
     "data": {
      "text/plain": [
       "TransactionID               int64\n",
       "CustomerID                float64\n",
       "TransactionDate    datetime64[ns]\n",
       "ProductID                   int64\n",
       "ProductCategory            object\n",
       "Quantity                    int64\n",
       "PricePerUnit              float64\n",
       "TotalAmount               float64\n",
       "TrustPointsUsed             int64\n",
       "PaymentMethod              object\n",
       "DiscountApplied           float64\n",
       "dtype: object"
      ]
     },
     "execution_count": 8,
     "metadata": {},
     "output_type": "execute_result"
    }
   ],
   "source": [
    "df.dtypes"
   ]
  },
  {
   "cell_type": "code",
   "execution_count": 9,
   "id": "df23cae4-2a21-4ac1-8cf7-e9a23fba807e",
   "metadata": {},
   "outputs": [],
   "source": [
    "df['NewTransactionID'] = df.index + 1\n",
    "df.drop(columns=['TransactionID'], inplace=True)\n",
    "df.rename(columns={'NewTransactionID': 'TransactionID'}, inplace=True)"
   ]
  },
  {
   "cell_type": "code",
   "execution_count": 10,
   "id": "3d2752ee-04ae-45b1-b8e3-f12cdfeab933",
   "metadata": {},
   "outputs": [
    {
     "data": {
      "text/html": [
       "<div>\n",
       "<style scoped>\n",
       "    .dataframe tbody tr th:only-of-type {\n",
       "        vertical-align: middle;\n",
       "    }\n",
       "\n",
       "    .dataframe tbody tr th {\n",
       "        vertical-align: top;\n",
       "    }\n",
       "\n",
       "    .dataframe thead th {\n",
       "        text-align: right;\n",
       "    }\n",
       "</style>\n",
       "<table border=\"1\" class=\"dataframe\">\n",
       "  <thead>\n",
       "    <tr style=\"text-align: right;\">\n",
       "      <th></th>\n",
       "      <th>CustomerID</th>\n",
       "      <th>TransactionDate</th>\n",
       "      <th>ProductID</th>\n",
       "      <th>ProductCategory</th>\n",
       "      <th>Quantity</th>\n",
       "      <th>PricePerUnit</th>\n",
       "      <th>TotalAmount</th>\n",
       "      <th>TrustPointsUsed</th>\n",
       "      <th>PaymentMethod</th>\n",
       "      <th>DiscountApplied</th>\n",
       "      <th>TransactionID</th>\n",
       "    </tr>\n",
       "  </thead>\n",
       "  <tbody>\n",
       "    <tr>\n",
       "      <th>0</th>\n",
       "      <td>1002.0</td>\n",
       "      <td>2024-08-08 22:00:00</td>\n",
       "      <td>2008</td>\n",
       "      <td>Grocery</td>\n",
       "      <td>1</td>\n",
       "      <td>10.0</td>\n",
       "      <td>10.0</td>\n",
       "      <td>20</td>\n",
       "      <td>Trust Points</td>\n",
       "      <td>5.0</td>\n",
       "      <td>1</td>\n",
       "    </tr>\n",
       "    <tr>\n",
       "      <th>1</th>\n",
       "      <td>NaN</td>\n",
       "      <td>2024-08-07 01:00:00</td>\n",
       "      <td>2004</td>\n",
       "      <td>Home Decor</td>\n",
       "      <td>1</td>\n",
       "      <td>10.0</td>\n",
       "      <td>10.0</td>\n",
       "      <td>0</td>\n",
       "      <td>Credit Card</td>\n",
       "      <td>20.0</td>\n",
       "      <td>2</td>\n",
       "    </tr>\n",
       "  </tbody>\n",
       "</table>\n",
       "</div>"
      ],
      "text/plain": [
       "   CustomerID     TransactionDate  ProductID ProductCategory  Quantity  \\\n",
       "0      1002.0 2024-08-08 22:00:00       2008         Grocery         1   \n",
       "1         NaN 2024-08-07 01:00:00       2004      Home Decor         1   \n",
       "\n",
       "   PricePerUnit  TotalAmount  TrustPointsUsed PaymentMethod  DiscountApplied  \\\n",
       "0          10.0         10.0               20  Trust Points              5.0   \n",
       "1          10.0         10.0                0   Credit Card             20.0   \n",
       "\n",
       "   TransactionID  \n",
       "0              1  \n",
       "1              2  "
      ]
     },
     "execution_count": 10,
     "metadata": {},
     "output_type": "execute_result"
    }
   ],
   "source": [
    "df.head(2)"
   ]
  },
  {
   "cell_type": "code",
   "execution_count": 11,
   "id": "89fdf114-acab-4eca-8b32-ae19dab61f98",
   "metadata": {},
   "outputs": [],
   "source": [
    "df.insert(0, 'TransactionID', df.pop('TransactionID'))"
   ]
  },
  {
   "cell_type": "code",
   "execution_count": 12,
   "id": "ac471ff6-a67f-40de-abc5-f51c53a5c1de",
   "metadata": {},
   "outputs": [
    {
     "data": {
      "text/html": [
       "<div>\n",
       "<style scoped>\n",
       "    .dataframe tbody tr th:only-of-type {\n",
       "        vertical-align: middle;\n",
       "    }\n",
       "\n",
       "    .dataframe tbody tr th {\n",
       "        vertical-align: top;\n",
       "    }\n",
       "\n",
       "    .dataframe thead th {\n",
       "        text-align: right;\n",
       "    }\n",
       "</style>\n",
       "<table border=\"1\" class=\"dataframe\">\n",
       "  <thead>\n",
       "    <tr style=\"text-align: right;\">\n",
       "      <th></th>\n",
       "      <th>TransactionID</th>\n",
       "      <th>CustomerID</th>\n",
       "      <th>TransactionDate</th>\n",
       "      <th>ProductID</th>\n",
       "      <th>ProductCategory</th>\n",
       "      <th>Quantity</th>\n",
       "      <th>PricePerUnit</th>\n",
       "      <th>TotalAmount</th>\n",
       "      <th>TrustPointsUsed</th>\n",
       "      <th>PaymentMethod</th>\n",
       "      <th>DiscountApplied</th>\n",
       "    </tr>\n",
       "  </thead>\n",
       "  <tbody>\n",
       "    <tr>\n",
       "      <th>0</th>\n",
       "      <td>1</td>\n",
       "      <td>1002.0</td>\n",
       "      <td>2024-08-08 22:00:00</td>\n",
       "      <td>2008</td>\n",
       "      <td>Grocery</td>\n",
       "      <td>1</td>\n",
       "      <td>10.0</td>\n",
       "      <td>10.0</td>\n",
       "      <td>20</td>\n",
       "      <td>Trust Points</td>\n",
       "      <td>5.0</td>\n",
       "    </tr>\n",
       "    <tr>\n",
       "      <th>1</th>\n",
       "      <td>2</td>\n",
       "      <td>NaN</td>\n",
       "      <td>2024-08-07 01:00:00</td>\n",
       "      <td>2004</td>\n",
       "      <td>Home Decor</td>\n",
       "      <td>1</td>\n",
       "      <td>10.0</td>\n",
       "      <td>10.0</td>\n",
       "      <td>0</td>\n",
       "      <td>Credit Card</td>\n",
       "      <td>20.0</td>\n",
       "    </tr>\n",
       "  </tbody>\n",
       "</table>\n",
       "</div>"
      ],
      "text/plain": [
       "   TransactionID  CustomerID     TransactionDate  ProductID ProductCategory  \\\n",
       "0              1      1002.0 2024-08-08 22:00:00       2008         Grocery   \n",
       "1              2         NaN 2024-08-07 01:00:00       2004      Home Decor   \n",
       "\n",
       "   Quantity  PricePerUnit  TotalAmount  TrustPointsUsed PaymentMethod  \\\n",
       "0         1          10.0         10.0               20  Trust Points   \n",
       "1         1          10.0         10.0                0   Credit Card   \n",
       "\n",
       "   DiscountApplied  \n",
       "0              5.0  \n",
       "1             20.0  "
      ]
     },
     "execution_count": 12,
     "metadata": {},
     "output_type": "execute_result"
    }
   ],
   "source": [
    "df.head(2)"
   ]
  },
  {
   "cell_type": "code",
   "execution_count": 13,
   "id": "da4272e2-8a2d-40bc-a2dc-2d205758d2c7",
   "metadata": {},
   "outputs": [
    {
     "data": {
      "text/html": [
       "<div>\n",
       "<style scoped>\n",
       "    .dataframe tbody tr th:only-of-type {\n",
       "        vertical-align: middle;\n",
       "    }\n",
       "\n",
       "    .dataframe tbody tr th {\n",
       "        vertical-align: top;\n",
       "    }\n",
       "\n",
       "    .dataframe thead th {\n",
       "        text-align: right;\n",
       "    }\n",
       "</style>\n",
       "<table border=\"1\" class=\"dataframe\">\n",
       "  <thead>\n",
       "    <tr style=\"text-align: right;\">\n",
       "      <th></th>\n",
       "      <th>TransactionID</th>\n",
       "      <th>CustomerID</th>\n",
       "      <th>TransactionDate</th>\n",
       "      <th>ProductID</th>\n",
       "      <th>Quantity</th>\n",
       "      <th>PricePerUnit</th>\n",
       "      <th>TotalAmount</th>\n",
       "      <th>TrustPointsUsed</th>\n",
       "      <th>DiscountApplied</th>\n",
       "    </tr>\n",
       "  </thead>\n",
       "  <tbody>\n",
       "    <tr>\n",
       "      <th>count</th>\n",
       "      <td>50.00000</td>\n",
       "      <td>45.000000</td>\n",
       "      <td>49</td>\n",
       "      <td>50.000000</td>\n",
       "      <td>50.000000</td>\n",
       "      <td>36.000000</td>\n",
       "      <td>36.000000</td>\n",
       "      <td>50.000000</td>\n",
       "      <td>45.000000</td>\n",
       "    </tr>\n",
       "    <tr>\n",
       "      <th>mean</th>\n",
       "      <td>25.50000</td>\n",
       "      <td>1002.444444</td>\n",
       "      <td>2024-08-05 15:31:50.204081920</td>\n",
       "      <td>2004.920000</td>\n",
       "      <td>1.420000</td>\n",
       "      <td>125.277778</td>\n",
       "      <td>155.277778</td>\n",
       "      <td>28.800000</td>\n",
       "      <td>23.888889</td>\n",
       "    </tr>\n",
       "    <tr>\n",
       "      <th>min</th>\n",
       "      <td>1.00000</td>\n",
       "      <td>1001.000000</td>\n",
       "      <td>2024-08-01 04:00:00</td>\n",
       "      <td>2001.000000</td>\n",
       "      <td>-1.000000</td>\n",
       "      <td>10.000000</td>\n",
       "      <td>-500.000000</td>\n",
       "      <td>-10.000000</td>\n",
       "      <td>5.000000</td>\n",
       "    </tr>\n",
       "    <tr>\n",
       "      <th>25%</th>\n",
       "      <td>13.25000</td>\n",
       "      <td>1001.000000</td>\n",
       "      <td>2024-08-02 20:00:00</td>\n",
       "      <td>2003.000000</td>\n",
       "      <td>1.000000</td>\n",
       "      <td>17.500000</td>\n",
       "      <td>10.000000</td>\n",
       "      <td>0.000000</td>\n",
       "      <td>15.000000</td>\n",
       "    </tr>\n",
       "    <tr>\n",
       "      <th>50%</th>\n",
       "      <td>25.50000</td>\n",
       "      <td>1002.000000</td>\n",
       "      <td>2024-08-06 02:00:00</td>\n",
       "      <td>2005.000000</td>\n",
       "      <td>1.000000</td>\n",
       "      <td>30.000000</td>\n",
       "      <td>40.000000</td>\n",
       "      <td>20.000000</td>\n",
       "      <td>20.000000</td>\n",
       "    </tr>\n",
       "    <tr>\n",
       "      <th>75%</th>\n",
       "      <td>37.75000</td>\n",
       "      <td>1003.000000</td>\n",
       "      <td>2024-08-07 18:00:00</td>\n",
       "      <td>2007.000000</td>\n",
       "      <td>2.000000</td>\n",
       "      <td>100.000000</td>\n",
       "      <td>150.000000</td>\n",
       "      <td>50.000000</td>\n",
       "      <td>30.000000</td>\n",
       "    </tr>\n",
       "    <tr>\n",
       "      <th>max</th>\n",
       "      <td>50.00000</td>\n",
       "      <td>1005.000000</td>\n",
       "      <td>2024-08-10 00:00:00</td>\n",
       "      <td>2008.000000</td>\n",
       "      <td>5.000000</td>\n",
       "      <td>500.000000</td>\n",
       "      <td>1500.000000</td>\n",
       "      <td>100.000000</td>\n",
       "      <td>50.000000</td>\n",
       "    </tr>\n",
       "    <tr>\n",
       "      <th>std</th>\n",
       "      <td>14.57738</td>\n",
       "      <td>1.306549</td>\n",
       "      <td>NaN</td>\n",
       "      <td>2.284285</td>\n",
       "      <td>1.263135</td>\n",
       "      <td>188.292874</td>\n",
       "      <td>351.596247</td>\n",
       "      <td>39.467889</td>\n",
       "      <td>13.853490</td>\n",
       "    </tr>\n",
       "  </tbody>\n",
       "</table>\n",
       "</div>"
      ],
      "text/plain": [
       "       TransactionID   CustomerID                TransactionDate    ProductID  \\\n",
       "count       50.00000    45.000000                             49    50.000000   \n",
       "mean        25.50000  1002.444444  2024-08-05 15:31:50.204081920  2004.920000   \n",
       "min          1.00000  1001.000000            2024-08-01 04:00:00  2001.000000   \n",
       "25%         13.25000  1001.000000            2024-08-02 20:00:00  2003.000000   \n",
       "50%         25.50000  1002.000000            2024-08-06 02:00:00  2005.000000   \n",
       "75%         37.75000  1003.000000            2024-08-07 18:00:00  2007.000000   \n",
       "max         50.00000  1005.000000            2024-08-10 00:00:00  2008.000000   \n",
       "std         14.57738     1.306549                            NaN     2.284285   \n",
       "\n",
       "        Quantity  PricePerUnit  TotalAmount  TrustPointsUsed  DiscountApplied  \n",
       "count  50.000000     36.000000    36.000000        50.000000        45.000000  \n",
       "mean    1.420000    125.277778   155.277778        28.800000        23.888889  \n",
       "min    -1.000000     10.000000  -500.000000       -10.000000         5.000000  \n",
       "25%     1.000000     17.500000    10.000000         0.000000        15.000000  \n",
       "50%     1.000000     30.000000    40.000000        20.000000        20.000000  \n",
       "75%     2.000000    100.000000   150.000000        50.000000        30.000000  \n",
       "max     5.000000    500.000000  1500.000000       100.000000        50.000000  \n",
       "std     1.263135    188.292874   351.596247        39.467889        13.853490  "
      ]
     },
     "execution_count": 13,
     "metadata": {},
     "output_type": "execute_result"
    }
   ],
   "source": [
    "df.describe()"
   ]
  },
  {
   "cell_type": "markdown",
   "id": "048d01e5-98d3-4afe-b05b-32724308161d",
   "metadata": {},
   "source": [
    "Checking data distribution using histogram and boxplot:"
   ]
  },
  {
   "cell_type": "code",
   "execution_count": 14,
   "id": "510e9283-45be-4320-a0db-c1b8a2f66fc2",
   "metadata": {},
   "outputs": [
    {
     "name": "stderr",
     "output_type": "stream",
     "text": [
      "C:\\Users\\User\\anaconda3\\Lib\\site-packages\\seaborn\\_oldcore.py:1119: FutureWarning: use_inf_as_na option is deprecated and will be removed in a future version. Convert inf values to NaN before operating instead.\n",
      "  with pd.option_context('mode.use_inf_as_na', True):\n"
     ]
    },
    {
     "data": {
      "text/plain": [
       "Text(0.5, 1.0, 'Histogram')"
      ]
     },
     "execution_count": 14,
     "metadata": {},
     "output_type": "execute_result"
    },
    {
     "data": {
      "image/png": "[encoded data removed]",
      "text/plain": [
       "<Figure size 500x300 with 1 Axes>"
      ]
     },
     "metadata": {},
     "output_type": "display_data"
    }
   ],
   "source": [
    "plt.figure(figsize=(5,3))\n",
    "sns.histplot(data=df, x='PricePerUnit')\n",
    "plt.title('Histogram')"
   ]
  },
  {
   "cell_type": "code",
   "execution_count": 15,
   "id": "080a7c61-3d9d-438c-988c-7ecbcc9b272c",
   "metadata": {},
   "outputs": [
    {
     "data": {
      "image/png": "[encoded data removed]",
      "text/plain": [
       "<Figure size 500x100 with 1 Axes>"
      ]
     },
     "metadata": {},
     "output_type": "display_data"
    }
   ],
   "source": [
    "plt.figure(figsize=(5,1))\n",
    "sns.boxplot(x=df['PricePerUnit'], fliersize=3)\n",
    "plt.title('Box Plot');"
   ]
  },
  {
   "cell_type": "code",
   "execution_count": 16,
   "id": "ee6378ea-b3d1-4f73-a892-19e5ac4d08c0",
   "metadata": {},
   "outputs": [
    {
     "name": "stderr",
     "output_type": "stream",
     "text": [
      "C:\\Users\\User\\anaconda3\\Lib\\site-packages\\seaborn\\_oldcore.py:1119: FutureWarning: use_inf_as_na option is deprecated and will be removed in a future version. Convert inf values to NaN before operating instead.\n",
      "  with pd.option_context('mode.use_inf_as_na', True):\n"
     ]
    },
    {
     "data": {
      "text/plain": [
       "Text(0.5, 1.0, 'Histogram')"
      ]
     },
     "execution_count": 16,
     "metadata": {},
     "output_type": "execute_result"
    },
    {
     "data": {
      "image/png": "[encoded data removed]",
      "text/plain": [
       "<Figure size 500x300 with 1 Axes>"
      ]
     },
     "metadata": {},
     "output_type": "display_data"
    }
   ],
   "source": [
    "plt.figure(figsize=(5,3))\n",
    "sns.histplot(data=df, x='TotalAmount')\n",
    "plt.title('Histogram')"
   ]
  },
  {
   "cell_type": "code",
   "execution_count": 17,
   "id": "9ab5ff28-aab0-4a62-b523-54f6a1505173",
   "metadata": {},
   "outputs": [
    {
     "data": {
      "image/png": "[encoded data removed]",
      "text/plain": [
       "<Figure size 500x100 with 1 Axes>"
      ]
     },
     "metadata": {},
     "output_type": "display_data"
    }
   ],
   "source": [
    "plt.figure(figsize=(5,1))\n",
    "sns.boxplot(x=df['TotalAmount'], fliersize=3)\n",
    "plt.title('Box Plot');"
   ]
  },
  {
   "cell_type": "markdown",
   "id": "dd08cc06-9252-47c9-8b6f-2efa1fe78199",
   "metadata": {},
   "source": [
    "- As the PricePerUnit column has outliers, we will use median to fill in the null data.\n",
    "- As the TotalAmount column has normal distribution, we will mean use mean to replace the null values."
   ]
  },
  {
   "cell_type": "code",
   "execution_count": 18,
   "id": "54505c7e-0c78-49fe-a44d-bbd48d3cbc57",
   "metadata": {},
   "outputs": [
    {
     "name": "stderr",
     "output_type": "stream",
     "text": [
      "C:\\Users\\User\\anaconda3\\Lib\\site-packages\\seaborn\\_oldcore.py:1119: FutureWarning: use_inf_as_na option is deprecated and will be removed in a future version. Convert inf values to NaN before operating instead.\n",
      "  with pd.option_context('mode.use_inf_as_na', True):\n"
     ]
    },
    {
     "data": {
      "text/plain": [
       "Text(0.5, 1.0, 'Histogram')"
      ]
     },
     "execution_count": 18,
     "metadata": {},
     "output_type": "execute_result"
    },
    {
     "data": {
      "image/png": "[encoded data removed]",
      "text/plain": [
       "<Figure size 500x300 with 1 Axes>"
      ]
     },
     "metadata": {},
     "output_type": "display_data"
    }
   ],
   "source": [
    "plt.figure(figsize=(5,3))\n",
    "sns.histplot(data=df, x='DiscountApplied')\n",
    "plt.title('Histogram')"
   ]
  },
  {
   "cell_type": "code",
   "execution_count": 60,
   "id": "0bb96579-7192-4895-aceb-d77f69df45c2",
   "metadata": {},
   "outputs": [],
   "source": [
    "df['PricePerUnit'].fillna(df['PricePerUnit'].median(), inplace=True)"
   ]
  },
  {
   "cell_type": "code",
   "execution_count": 62,
   "id": "8e28ed86-5d1e-4484-8324-d8722b9e565d",
   "metadata": {},
   "outputs": [],
   "source": [
    "df['TotalAmount'].fillna(df['TotalAmount'].mean(), inplace=True)"
   ]
  },
  {
   "cell_type": "code",
   "execution_count": 21,
   "id": "2fbcddf4-52ac-43c2-8e5f-aa02a468a9b6",
   "metadata": {},
   "outputs": [],
   "source": [
    "df['DiscountApplied'].fillna(0, inplace=True)"
   ]
  },
  {
   "cell_type": "code",
   "execution_count": 22,
   "id": "a32f9d48-9511-4d57-a564-37afb0714a57",
   "metadata": {},
   "outputs": [],
   "source": [
    "df['CustomerID'] = df['CustomerID'].astype('object')"
   ]
  },
  {
   "cell_type": "code",
   "execution_count": 23,
   "id": "180e783c-3a61-4273-a244-4bb5d7a0b9c6",
   "metadata": {},
   "outputs": [],
   "source": [
    "df['CustomerID'].fillna('NoID', inplace=True)"
   ]
  },
  {
   "cell_type": "code",
   "execution_count": 25,
   "id": "ef43da5b-4120-4472-9c30-aedd95b8800d",
   "metadata": {},
   "outputs": [
    {
     "data": {
      "text/plain": [
       "6"
      ]
     },
     "execution_count": 25,
     "metadata": {},
     "output_type": "execute_result"
    }
   ],
   "source": [
    "total_customers = df['CustomerID'].nunique()\n",
    "total_customers"
   ]
  },
  {
   "cell_type": "code",
   "execution_count": 26,
   "id": "d5d424e0-5de2-4f33-bfd5-25e3bb28286d",
   "metadata": {},
   "outputs": [
    {
     "data": {
      "text/plain": [
       "8"
      ]
     },
     "execution_count": 26,
     "metadata": {},
     "output_type": "execute_result"
    }
   ],
   "source": [
    "total_products = df['ProductID'].nunique()\n",
    "total_products"
   ]
  },
  {
   "cell_type": "code",
   "execution_count": 27,
   "id": "95663c53-80fd-4f99-9fb0-6af3bf471adc",
   "metadata": {},
   "outputs": [
    {
     "data": {
      "text/plain": [
       "5"
      ]
     },
     "execution_count": 27,
     "metadata": {},
     "output_type": "execute_result"
    }
   ],
   "source": [
    "total_product_category = df['ProductCategory'].nunique()\n",
    "total_product_category"
   ]
  },
  {
   "cell_type": "code",
   "execution_count": 28,
   "id": "aaeb7105-ca91-4017-8e52-bb2e575fc055",
   "metadata": {},
   "outputs": [
    {
     "data": {
      "text/plain": [
       "75"
      ]
     },
     "execution_count": 28,
     "metadata": {},
     "output_type": "execute_result"
    }
   ],
   "source": [
    "total_ordered = df[df['Quantity'] > 0]['Quantity'].sum()\n",
    "total_ordered"
   ]
  },
  {
   "cell_type": "code",
   "execution_count": 29,
   "id": "f64b45f7-e1e5-4f9d-9f6b-a068fb0fa42a",
   "metadata": {},
   "outputs": [
    {
     "data": {
      "text/plain": [
       "4"
      ]
     },
     "execution_count": 29,
     "metadata": {},
     "output_type": "execute_result"
    }
   ],
   "source": [
    "total_returned = abs(df[df['Quantity'] < 0]['Quantity'].sum())\n",
    "total_returned"
   ]
  },
  {
   "cell_type": "code",
   "execution_count": 30,
   "id": "97e32b27-e30e-455d-b586-18a44182a000",
   "metadata": {},
   "outputs": [
    {
     "data": {
      "text/plain": [
       "71"
      ]
     },
     "execution_count": 30,
     "metadata": {},
     "output_type": "execute_result"
    }
   ],
   "source": [
    "final_quantity_sold = total_ordered-total_returned\n",
    "final_quantity_sold"
   ]
  },
  {
   "cell_type": "code",
   "execution_count": 31,
   "id": "58bad9b2-47eb-4df6-ae72-62c2cb91f7b8",
   "metadata": {},
   "outputs": [
    {
     "data": {
      "text/plain": [
       "98.6"
      ]
     },
     "execution_count": 31,
     "metadata": {},
     "output_type": "execute_result"
    }
   ],
   "source": [
    "Avg_price_per_unit = df['PricePerUnit'].mean()\n",
    "Avg_price_per_unit"
   ]
  },
  {
   "cell_type": "code",
   "execution_count": 32,
   "id": "bc13dfa8-68ac-49cb-8e5d-8ae92a63ed94",
   "metadata": {},
   "outputs": [
    {
     "data": {
      "text/plain": [
       "8303.888888888889"
      ]
     },
     "execution_count": 32,
     "metadata": {},
     "output_type": "execute_result"
    }
   ],
   "source": [
    "Amount_received = df[df['TotalAmount'] > 0]['TotalAmount'].sum()\n",
    "Amount_received"
   ]
  },
  {
   "cell_type": "code",
   "execution_count": 33,
   "id": "70dc1c21-ff8b-4506-b373-397c50509162",
   "metadata": {},
   "outputs": [
    {
     "data": {
      "text/plain": [
       "540.0"
      ]
     },
     "execution_count": 33,
     "metadata": {},
     "output_type": "execute_result"
    }
   ],
   "source": [
    "Amount_reverted = abs(df[df['TotalAmount'] < 0]['TotalAmount'].sum())\n",
    "Amount_reverted"
   ]
  },
  {
   "cell_type": "code",
   "execution_count": 34,
   "id": "583bfc6a-8463-4c75-9b33-aa61dd0e9cc9",
   "metadata": {},
   "outputs": [
    {
     "data": {
      "text/plain": [
       "7763.888888888889"
      ]
     },
     "execution_count": 34,
     "metadata": {},
     "output_type": "execute_result"
    }
   ],
   "source": [
    "Total_sales = Amount_received-Amount_reverted\n",
    "Total_sales"
   ]
  },
  {
   "cell_type": "code",
   "execution_count": null,
   "id": "218a249a-7b94-4723-ada6-76557fbb8db2",
   "metadata": {},
   "outputs": [],
   "source": []
  },
  {
   "cell_type": "code",
   "execution_count": 35,
   "id": "1782feef-f8c0-40a8-b095-4e285950e15c",
   "metadata": {},
   "outputs": [
    {
     "data": {
      "text/html": [
       "<div>\n",
       "<style scoped>\n",
       "    .dataframe tbody tr th:only-of-type {\n",
       "        vertical-align: middle;\n",
       "    }\n",
       "\n",
       "    .dataframe tbody tr th {\n",
       "        vertical-align: top;\n",
       "    }\n",
       "\n",
       "    .dataframe thead th {\n",
       "        text-align: right;\n",
       "    }\n",
       "</style>\n",
       "<table border=\"1\" class=\"dataframe\">\n",
       "  <thead>\n",
       "    <tr style=\"text-align: right;\">\n",
       "      <th></th>\n",
       "      <th>ProductCategory</th>\n",
       "      <th>Quantity</th>\n",
       "      <th>TotalAmount</th>\n",
       "      <th>PricePerUnit</th>\n",
       "    </tr>\n",
       "  </thead>\n",
       "  <tbody>\n",
       "    <tr>\n",
       "      <th>0</th>\n",
       "      <td>Electronics</td>\n",
       "      <td>12</td>\n",
       "      <td>670.555556</td>\n",
       "      <td>136.923077</td>\n",
       "    </tr>\n",
       "    <tr>\n",
       "      <th>2</th>\n",
       "      <td>Grocery</td>\n",
       "      <td>19</td>\n",
       "      <td>941.111111</td>\n",
       "      <td>35.000000</td>\n",
       "    </tr>\n",
       "    <tr>\n",
       "      <th>4</th>\n",
       "      <td>Toys</td>\n",
       "      <td>21</td>\n",
       "      <td>1150.555556</td>\n",
       "      <td>42.307692</td>\n",
       "    </tr>\n",
       "    <tr>\n",
       "      <th>3</th>\n",
       "      <td>Home Decor</td>\n",
       "      <td>10</td>\n",
       "      <td>2485.833333</td>\n",
       "      <td>118.000000</td>\n",
       "    </tr>\n",
       "    <tr>\n",
       "      <th>1</th>\n",
       "      <td>Fashion</td>\n",
       "      <td>9</td>\n",
       "      <td>2515.833333</td>\n",
       "      <td>190.000000</td>\n",
       "    </tr>\n",
       "  </tbody>\n",
       "</table>\n",
       "</div>"
      ],
      "text/plain": [
       "  ProductCategory  Quantity  TotalAmount  PricePerUnit\n",
       "0     Electronics        12   670.555556    136.923077\n",
       "2         Grocery        19   941.111111     35.000000\n",
       "4            Toys        21  1150.555556     42.307692\n",
       "3      Home Decor        10  2485.833333    118.000000\n",
       "1         Fashion         9  2515.833333    190.000000"
      ]
     },
     "execution_count": 35,
     "metadata": {},
     "output_type": "execute_result"
    }
   ],
   "source": [
    "Product_summary = df.groupby('ProductCategory').agg({\n",
    "    'Quantity': 'sum', 'TotalAmount': 'sum', 'PricePerUnit': 'mean'}).reset_index().sort_values(by='TotalAmount')\n",
    "Product_summary"
   ]
  },
  {
   "cell_type": "code",
   "execution_count": 36,
   "id": "0fd3d66b-5158-46f3-a8bc-c702f0d8a931",
   "metadata": {},
   "outputs": [
    {
     "data": {
      "text/html": [
       "<div>\n",
       "<style scoped>\n",
       "    .dataframe tbody tr th:only-of-type {\n",
       "        vertical-align: middle;\n",
       "    }\n",
       "\n",
       "    .dataframe tbody tr th {\n",
       "        vertical-align: top;\n",
       "    }\n",
       "\n",
       "    .dataframe thead th {\n",
       "        text-align: right;\n",
       "    }\n",
       "</style>\n",
       "<table border=\"1\" class=\"dataframe\">\n",
       "  <thead>\n",
       "    <tr style=\"text-align: right;\">\n",
       "      <th></th>\n",
       "      <th>CustomerID</th>\n",
       "      <th>TransactionID</th>\n",
       "      <th>Quantity</th>\n",
       "      <th>TotalAmount</th>\n",
       "      <th>DiscountApplied</th>\n",
       "    </tr>\n",
       "  </thead>\n",
       "  <tbody>\n",
       "    <tr>\n",
       "      <th>0</th>\n",
       "      <td>1001.0</td>\n",
       "      <td>15</td>\n",
       "      <td>23</td>\n",
       "      <td>1431.111111</td>\n",
       "      <td>205.0</td>\n",
       "    </tr>\n",
       "    <tr>\n",
       "      <th>1</th>\n",
       "      <td>1002.0</td>\n",
       "      <td>9</td>\n",
       "      <td>13</td>\n",
       "      <td>1061.111111</td>\n",
       "      <td>205.0</td>\n",
       "    </tr>\n",
       "    <tr>\n",
       "      <th>2</th>\n",
       "      <td>1003.0</td>\n",
       "      <td>10</td>\n",
       "      <td>14</td>\n",
       "      <td>2880.555556</td>\n",
       "      <td>255.0</td>\n",
       "    </tr>\n",
       "    <tr>\n",
       "      <th>3</th>\n",
       "      <td>1004.0</td>\n",
       "      <td>8</td>\n",
       "      <td>12</td>\n",
       "      <td>1615.833333</td>\n",
       "      <td>185.0</td>\n",
       "    </tr>\n",
       "    <tr>\n",
       "      <th>4</th>\n",
       "      <td>1005.0</td>\n",
       "      <td>3</td>\n",
       "      <td>5</td>\n",
       "      <td>235.277778</td>\n",
       "      <td>130.0</td>\n",
       "    </tr>\n",
       "    <tr>\n",
       "      <th>5</th>\n",
       "      <td>NoID</td>\n",
       "      <td>5</td>\n",
       "      <td>4</td>\n",
       "      <td>540.000000</td>\n",
       "      <td>95.0</td>\n",
       "    </tr>\n",
       "  </tbody>\n",
       "</table>\n",
       "</div>"
      ],
      "text/plain": [
       "  CustomerID  TransactionID  Quantity  TotalAmount  DiscountApplied\n",
       "0     1001.0             15        23  1431.111111            205.0\n",
       "1     1002.0              9        13  1061.111111            205.0\n",
       "2     1003.0             10        14  2880.555556            255.0\n",
       "3     1004.0              8        12  1615.833333            185.0\n",
       "4     1005.0              3         5   235.277778            130.0\n",
       "5       NoID              5         4   540.000000             95.0"
      ]
     },
     "execution_count": 36,
     "metadata": {},
     "output_type": "execute_result"
    }
   ],
   "source": [
    "customer_summary = df.groupby('CustomerID').agg({\n",
    "    'TransactionID': 'count', 'Quantity': 'sum', 'TotalAmount': 'sum', 'DiscountApplied': 'sum'}).reset_index()\n",
    "customer_summary"
   ]
  },
  {
   "cell_type": "code",
   "execution_count": 37,
   "id": "f2322ecf-38bf-4437-8fca-863e719b1c6c",
   "metadata": {},
   "outputs": [
    {
     "data": {
      "text/plain": [
       "PaymentMethod\n",
       "Cash            16\n",
       "Trust Points    14\n",
       "Credit Card     10\n",
       "NaN             10\n",
       "Name: count, dtype: int64"
      ]
     },
     "execution_count": 37,
     "metadata": {},
     "output_type": "execute_result"
    }
   ],
   "source": [
    "payment_methods = df['PaymentMethod'].value_counts(dropna=False)\n",
    "payment_methods"
   ]
  },
  {
   "cell_type": "code",
   "execution_count": 38,
   "id": "79f3fc40-3267-4d11-b59d-3c8d9e75cb98",
   "metadata": {},
   "outputs": [
    {
     "data": {
      "text/html": [
       "<div>\n",
       "<style scoped>\n",
       "    .dataframe tbody tr th:only-of-type {\n",
       "        vertical-align: middle;\n",
       "    }\n",
       "\n",
       "    .dataframe tbody tr th {\n",
       "        vertical-align: top;\n",
       "    }\n",
       "\n",
       "    .dataframe thead th {\n",
       "        text-align: right;\n",
       "    }\n",
       "</style>\n",
       "<table border=\"1\" class=\"dataframe\">\n",
       "  <thead>\n",
       "    <tr style=\"text-align: right;\">\n",
       "      <th></th>\n",
       "      <th>TransactionDate</th>\n",
       "      <th>TotalAmount</th>\n",
       "    </tr>\n",
       "  </thead>\n",
       "  <tbody>\n",
       "    <tr>\n",
       "      <th>0</th>\n",
       "      <td>2024-08-01 04:00:00</td>\n",
       "      <td>155.277778</td>\n",
       "    </tr>\n",
       "    <tr>\n",
       "      <th>1</th>\n",
       "      <td>2024-08-01 08:00:00</td>\n",
       "      <td>60.000000</td>\n",
       "    </tr>\n",
       "    <tr>\n",
       "      <th>2</th>\n",
       "      <td>2024-08-01 13:00:00</td>\n",
       "      <td>-30.000000</td>\n",
       "    </tr>\n",
       "    <tr>\n",
       "      <th>3</th>\n",
       "      <td>2024-08-01 14:00:00</td>\n",
       "      <td>1010.000000</td>\n",
       "    </tr>\n",
       "    <tr>\n",
       "      <th>4</th>\n",
       "      <td>2024-08-01 23:00:00</td>\n",
       "      <td>50.000000</td>\n",
       "    </tr>\n",
       "    <tr>\n",
       "      <th>5</th>\n",
       "      <td>2024-08-02 03:00:00</td>\n",
       "      <td>155.277778</td>\n",
       "    </tr>\n",
       "    <tr>\n",
       "      <th>6</th>\n",
       "      <td>2024-08-02 08:00:00</td>\n",
       "      <td>1000.000000</td>\n",
       "    </tr>\n",
       "    <tr>\n",
       "      <th>7</th>\n",
       "      <td>2024-08-02 15:00:00</td>\n",
       "      <td>30.000000</td>\n",
       "    </tr>\n",
       "    <tr>\n",
       "      <th>8</th>\n",
       "      <td>2024-08-02 16:00:00</td>\n",
       "      <td>70.000000</td>\n",
       "    </tr>\n",
       "    <tr>\n",
       "      <th>9</th>\n",
       "      <td>2024-08-02 19:00:00</td>\n",
       "      <td>90.000000</td>\n",
       "    </tr>\n",
       "    <tr>\n",
       "      <th>10</th>\n",
       "      <td>2024-08-02 20:00:00</td>\n",
       "      <td>200.000000</td>\n",
       "    </tr>\n",
       "    <tr>\n",
       "      <th>11</th>\n",
       "      <td>2024-08-02 23:00:00</td>\n",
       "      <td>155.277778</td>\n",
       "    </tr>\n",
       "    <tr>\n",
       "      <th>12</th>\n",
       "      <td>2024-08-03 04:00:00</td>\n",
       "      <td>155.277778</td>\n",
       "    </tr>\n",
       "    <tr>\n",
       "      <th>13</th>\n",
       "      <td>2024-08-03 14:00:00</td>\n",
       "      <td>100.000000</td>\n",
       "    </tr>\n",
       "    <tr>\n",
       "      <th>14</th>\n",
       "      <td>2024-08-03 16:00:00</td>\n",
       "      <td>20.000000</td>\n",
       "    </tr>\n",
       "    <tr>\n",
       "      <th>15</th>\n",
       "      <td>2024-08-03 22:00:00</td>\n",
       "      <td>500.000000</td>\n",
       "    </tr>\n",
       "    <tr>\n",
       "      <th>16</th>\n",
       "      <td>2024-08-04 08:00:00</td>\n",
       "      <td>0.000000</td>\n",
       "    </tr>\n",
       "    <tr>\n",
       "      <th>17</th>\n",
       "      <td>2024-08-04 09:00:00</td>\n",
       "      <td>150.000000</td>\n",
       "    </tr>\n",
       "    <tr>\n",
       "      <th>18</th>\n",
       "      <td>2024-08-04 15:00:00</td>\n",
       "      <td>20.000000</td>\n",
       "    </tr>\n",
       "    <tr>\n",
       "      <th>19</th>\n",
       "      <td>2024-08-04 16:00:00</td>\n",
       "      <td>155.277778</td>\n",
       "    </tr>\n",
       "    <tr>\n",
       "      <th>20</th>\n",
       "      <td>2024-08-04 22:00:00</td>\n",
       "      <td>50.000000</td>\n",
       "    </tr>\n",
       "    <tr>\n",
       "      <th>21</th>\n",
       "      <td>2024-08-05 14:00:00</td>\n",
       "      <td>1500.000000</td>\n",
       "    </tr>\n",
       "    <tr>\n",
       "      <th>22</th>\n",
       "      <td>2024-08-06 02:00:00</td>\n",
       "      <td>200.000000</td>\n",
       "    </tr>\n",
       "    <tr>\n",
       "      <th>23</th>\n",
       "      <td>2024-08-06 03:00:00</td>\n",
       "      <td>500.000000</td>\n",
       "    </tr>\n",
       "    <tr>\n",
       "      <th>24</th>\n",
       "      <td>2024-08-06 08:00:00</td>\n",
       "      <td>-500.000000</td>\n",
       "    </tr>\n",
       "    <tr>\n",
       "      <th>25</th>\n",
       "      <td>2024-08-06 14:00:00</td>\n",
       "      <td>155.277778</td>\n",
       "    </tr>\n",
       "    <tr>\n",
       "      <th>26</th>\n",
       "      <td>2024-08-06 15:00:00</td>\n",
       "      <td>40.000000</td>\n",
       "    </tr>\n",
       "    <tr>\n",
       "      <th>27</th>\n",
       "      <td>2024-08-06 18:00:00</td>\n",
       "      <td>-10.000000</td>\n",
       "    </tr>\n",
       "    <tr>\n",
       "      <th>28</th>\n",
       "      <td>2024-08-07 01:00:00</td>\n",
       "      <td>10.000000</td>\n",
       "    </tr>\n",
       "    <tr>\n",
       "      <th>29</th>\n",
       "      <td>2024-08-07 09:00:00</td>\n",
       "      <td>0.000000</td>\n",
       "    </tr>\n",
       "    <tr>\n",
       "      <th>30</th>\n",
       "      <td>2024-08-07 12:00:00</td>\n",
       "      <td>90.000000</td>\n",
       "    </tr>\n",
       "    <tr>\n",
       "      <th>31</th>\n",
       "      <td>2024-08-07 17:00:00</td>\n",
       "      <td>60.000000</td>\n",
       "    </tr>\n",
       "    <tr>\n",
       "      <th>32</th>\n",
       "      <td>2024-08-07 18:00:00</td>\n",
       "      <td>150.000000</td>\n",
       "    </tr>\n",
       "    <tr>\n",
       "      <th>33</th>\n",
       "      <td>2024-08-08 19:00:00</td>\n",
       "      <td>155.277778</td>\n",
       "    </tr>\n",
       "    <tr>\n",
       "      <th>34</th>\n",
       "      <td>2024-08-08 21:00:00</td>\n",
       "      <td>150.000000</td>\n",
       "    </tr>\n",
       "    <tr>\n",
       "      <th>35</th>\n",
       "      <td>2024-08-08 22:00:00</td>\n",
       "      <td>10.000000</td>\n",
       "    </tr>\n",
       "    <tr>\n",
       "      <th>36</th>\n",
       "      <td>2024-08-09 07:00:00</td>\n",
       "      <td>155.277778</td>\n",
       "    </tr>\n",
       "    <tr>\n",
       "      <th>37</th>\n",
       "      <td>2024-08-09 08:00:00</td>\n",
       "      <td>155.277778</td>\n",
       "    </tr>\n",
       "    <tr>\n",
       "      <th>38</th>\n",
       "      <td>2024-08-09 09:00:00</td>\n",
       "      <td>155.277778</td>\n",
       "    </tr>\n",
       "    <tr>\n",
       "      <th>39</th>\n",
       "      <td>2024-08-09 13:00:00</td>\n",
       "      <td>10.000000</td>\n",
       "    </tr>\n",
       "    <tr>\n",
       "      <th>40</th>\n",
       "      <td>2024-08-09 15:00:00</td>\n",
       "      <td>155.277778</td>\n",
       "    </tr>\n",
       "    <tr>\n",
       "      <th>41</th>\n",
       "      <td>2024-08-09 20:00:00</td>\n",
       "      <td>30.000000</td>\n",
       "    </tr>\n",
       "    <tr>\n",
       "      <th>42</th>\n",
       "      <td>2024-08-09 22:00:00</td>\n",
       "      <td>155.277778</td>\n",
       "    </tr>\n",
       "    <tr>\n",
       "      <th>43</th>\n",
       "      <td>2024-08-09 23:00:00</td>\n",
       "      <td>155.277778</td>\n",
       "    </tr>\n",
       "    <tr>\n",
       "      <th>44</th>\n",
       "      <td>2024-08-10 00:00:00</td>\n",
       "      <td>30.000000</td>\n",
       "    </tr>\n",
       "  </tbody>\n",
       "</table>\n",
       "</div>"
      ],
      "text/plain": [
       "       TransactionDate  TotalAmount\n",
       "0  2024-08-01 04:00:00   155.277778\n",
       "1  2024-08-01 08:00:00    60.000000\n",
       "2  2024-08-01 13:00:00   -30.000000\n",
       "3  2024-08-01 14:00:00  1010.000000\n",
       "4  2024-08-01 23:00:00    50.000000\n",
       "5  2024-08-02 03:00:00   155.277778\n",
       "6  2024-08-02 08:00:00  1000.000000\n",
       "7  2024-08-02 15:00:00    30.000000\n",
       "8  2024-08-02 16:00:00    70.000000\n",
       "9  2024-08-02 19:00:00    90.000000\n",
       "10 2024-08-02 20:00:00   200.000000\n",
       "11 2024-08-02 23:00:00   155.277778\n",
       "12 2024-08-03 04:00:00   155.277778\n",
       "13 2024-08-03 14:00:00   100.000000\n",
       "14 2024-08-03 16:00:00    20.000000\n",
       "15 2024-08-03 22:00:00   500.000000\n",
       "16 2024-08-04 08:00:00     0.000000\n",
       "17 2024-08-04 09:00:00   150.000000\n",
       "18 2024-08-04 15:00:00    20.000000\n",
       "19 2024-08-04 16:00:00   155.277778\n",
       "20 2024-08-04 22:00:00    50.000000\n",
       "21 2024-08-05 14:00:00  1500.000000\n",
       "22 2024-08-06 02:00:00   200.000000\n",
       "23 2024-08-06 03:00:00   500.000000\n",
       "24 2024-08-06 08:00:00  -500.000000\n",
       "25 2024-08-06 14:00:00   155.277778\n",
       "26 2024-08-06 15:00:00    40.000000\n",
       "27 2024-08-06 18:00:00   -10.000000\n",
       "28 2024-08-07 01:00:00    10.000000\n",
       "29 2024-08-07 09:00:00     0.000000\n",
       "30 2024-08-07 12:00:00    90.000000\n",
       "31 2024-08-07 17:00:00    60.000000\n",
       "32 2024-08-07 18:00:00   150.000000\n",
       "33 2024-08-08 19:00:00   155.277778\n",
       "34 2024-08-08 21:00:00   150.000000\n",
       "35 2024-08-08 22:00:00    10.000000\n",
       "36 2024-08-09 07:00:00   155.277778\n",
       "37 2024-08-09 08:00:00   155.277778\n",
       "38 2024-08-09 09:00:00   155.277778\n",
       "39 2024-08-09 13:00:00    10.000000\n",
       "40 2024-08-09 15:00:00   155.277778\n",
       "41 2024-08-09 20:00:00    30.000000\n",
       "42 2024-08-09 22:00:00   155.277778\n",
       "43 2024-08-09 23:00:00   155.277778\n",
       "44 2024-08-10 00:00:00    30.000000"
      ]
     },
     "execution_count": 38,
     "metadata": {},
     "output_type": "execute_result"
    }
   ],
   "source": [
    "sales_trend = df.groupby('TransactionDate')['TotalAmount'].sum().reset_index()\n",
    "sales_trend"
   ]
  },
  {
   "cell_type": "code",
   "execution_count": 39,
   "id": "def616af-6abe-42cd-ab9e-7e226037b1ad",
   "metadata": {},
   "outputs": [
    {
     "data": {
      "text/html": [
       "<div>\n",
       "<style scoped>\n",
       "    .dataframe tbody tr th:only-of-type {\n",
       "        vertical-align: middle;\n",
       "    }\n",
       "\n",
       "    .dataframe tbody tr th {\n",
       "        vertical-align: top;\n",
       "    }\n",
       "\n",
       "    .dataframe thead th {\n",
       "        text-align: right;\n",
       "    }\n",
       "</style>\n",
       "<table border=\"1\" class=\"dataframe\">\n",
       "  <thead>\n",
       "    <tr style=\"text-align: right;\">\n",
       "      <th></th>\n",
       "      <th>TransactionID</th>\n",
       "      <th>CustomerID</th>\n",
       "      <th>TransactionDate</th>\n",
       "      <th>ProductID</th>\n",
       "      <th>ProductCategory</th>\n",
       "      <th>Quantity</th>\n",
       "      <th>PricePerUnit</th>\n",
       "      <th>TotalAmount</th>\n",
       "      <th>TrustPointsUsed</th>\n",
       "      <th>PaymentMethod</th>\n",
       "      <th>DiscountApplied</th>\n",
       "      <th>Week</th>\n",
       "      <th>WeekDay</th>\n",
       "    </tr>\n",
       "  </thead>\n",
       "  <tbody>\n",
       "    <tr>\n",
       "      <th>0</th>\n",
       "      <td>1</td>\n",
       "      <td>1002.0</td>\n",
       "      <td>2024-08-08 22:00:00</td>\n",
       "      <td>2008</td>\n",
       "      <td>Grocery</td>\n",
       "      <td>1</td>\n",
       "      <td>10.0</td>\n",
       "      <td>10.000000</td>\n",
       "      <td>20</td>\n",
       "      <td>Trust Points</td>\n",
       "      <td>5.0</td>\n",
       "      <td>32</td>\n",
       "      <td>Thursday</td>\n",
       "    </tr>\n",
       "    <tr>\n",
       "      <th>1</th>\n",
       "      <td>2</td>\n",
       "      <td>NoID</td>\n",
       "      <td>2024-08-07 01:00:00</td>\n",
       "      <td>2004</td>\n",
       "      <td>Home Decor</td>\n",
       "      <td>1</td>\n",
       "      <td>10.0</td>\n",
       "      <td>10.000000</td>\n",
       "      <td>0</td>\n",
       "      <td>Credit Card</td>\n",
       "      <td>20.0</td>\n",
       "      <td>32</td>\n",
       "      <td>Wednesday</td>\n",
       "    </tr>\n",
       "    <tr>\n",
       "      <th>2</th>\n",
       "      <td>3</td>\n",
       "      <td>1004.0</td>\n",
       "      <td>2024-08-02 19:00:00</td>\n",
       "      <td>2002</td>\n",
       "      <td>Grocery</td>\n",
       "      <td>3</td>\n",
       "      <td>30.0</td>\n",
       "      <td>90.000000</td>\n",
       "      <td>0</td>\n",
       "      <td>Credit Card</td>\n",
       "      <td>25.0</td>\n",
       "      <td>31</td>\n",
       "      <td>Friday</td>\n",
       "    </tr>\n",
       "    <tr>\n",
       "      <th>3</th>\n",
       "      <td>4</td>\n",
       "      <td>1003.0</td>\n",
       "      <td>2024-08-07 17:00:00</td>\n",
       "      <td>2001</td>\n",
       "      <td>Toys</td>\n",
       "      <td>2</td>\n",
       "      <td>30.0</td>\n",
       "      <td>60.000000</td>\n",
       "      <td>50</td>\n",
       "      <td>NaN</td>\n",
       "      <td>20.0</td>\n",
       "      <td>32</td>\n",
       "      <td>Wednesday</td>\n",
       "    </tr>\n",
       "    <tr>\n",
       "      <th>4</th>\n",
       "      <td>5</td>\n",
       "      <td>1001.0</td>\n",
       "      <td>2024-08-09 09:00:00</td>\n",
       "      <td>2008</td>\n",
       "      <td>Grocery</td>\n",
       "      <td>1</td>\n",
       "      <td>30.0</td>\n",
       "      <td>155.277778</td>\n",
       "      <td>20</td>\n",
       "      <td>Trust Points</td>\n",
       "      <td>5.0</td>\n",
       "      <td>32</td>\n",
       "      <td>Friday</td>\n",
       "    </tr>\n",
       "  </tbody>\n",
       "</table>\n",
       "</div>"
      ],
      "text/plain": [
       "   TransactionID CustomerID     TransactionDate  ProductID ProductCategory  \\\n",
       "0              1     1002.0 2024-08-08 22:00:00       2008         Grocery   \n",
       "1              2       NoID 2024-08-07 01:00:00       2004      Home Decor   \n",
       "2              3     1004.0 2024-08-02 19:00:00       2002         Grocery   \n",
       "3              4     1003.0 2024-08-07 17:00:00       2001            Toys   \n",
       "4              5     1001.0 2024-08-09 09:00:00       2008         Grocery   \n",
       "\n",
       "   Quantity  PricePerUnit  TotalAmount  TrustPointsUsed PaymentMethod  \\\n",
       "0         1          10.0    10.000000               20  Trust Points   \n",
       "1         1          10.0    10.000000                0   Credit Card   \n",
       "2         3          30.0    90.000000                0   Credit Card   \n",
       "3         2          30.0    60.000000               50           NaN   \n",
       "4         1          30.0   155.277778               20  Trust Points   \n",
       "\n",
       "   DiscountApplied  Week    WeekDay  \n",
       "0              5.0    32   Thursday  \n",
       "1             20.0    32  Wednesday  \n",
       "2             25.0    31     Friday  \n",
       "3             20.0    32  Wednesday  \n",
       "4              5.0    32     Friday  "
      ]
     },
     "execution_count": 39,
     "metadata": {},
     "output_type": "execute_result"
    }
   ],
   "source": [
    "import datetime as dt\n",
    "df['Week'] = df.TransactionDate.dt.isocalendar().week\n",
    "df['WeekDay'] = df.TransactionDate.dt.day_name()\n",
    "df.head(5)"
   ]
  },
  {
   "cell_type": "code",
   "execution_count": 40,
   "id": "f6e63338-ac00-4397-8db1-885c23b04d6f",
   "metadata": {},
   "outputs": [
    {
     "data": {
      "text/html": [
       "<div>\n",
       "<style scoped>\n",
       "    .dataframe tbody tr th:only-of-type {\n",
       "        vertical-align: middle;\n",
       "    }\n",
       "\n",
       "    .dataframe tbody tr th {\n",
       "        vertical-align: top;\n",
       "    }\n",
       "\n",
       "    .dataframe thead th {\n",
       "        text-align: right;\n",
       "    }\n",
       "</style>\n",
       "<table border=\"1\" class=\"dataframe\">\n",
       "  <thead>\n",
       "    <tr style=\"text-align: right;\">\n",
       "      <th></th>\n",
       "      <th>WeekDay</th>\n",
       "      <th>TotalAmount</th>\n",
       "    </tr>\n",
       "  </thead>\n",
       "  <tbody>\n",
       "    <tr>\n",
       "      <th>0</th>\n",
       "      <td>Friday</td>\n",
       "      <td>2672.222222</td>\n",
       "    </tr>\n",
       "    <tr>\n",
       "      <th>1</th>\n",
       "      <td>Monday</td>\n",
       "      <td>1500.000000</td>\n",
       "    </tr>\n",
       "    <tr>\n",
       "      <th>2</th>\n",
       "      <td>Saturday</td>\n",
       "      <td>805.277778</td>\n",
       "    </tr>\n",
       "    <tr>\n",
       "      <th>3</th>\n",
       "      <td>Sunday</td>\n",
       "      <td>375.277778</td>\n",
       "    </tr>\n",
       "    <tr>\n",
       "      <th>4</th>\n",
       "      <td>Thursday</td>\n",
       "      <td>1560.555556</td>\n",
       "    </tr>\n",
       "    <tr>\n",
       "      <th>5</th>\n",
       "      <td>Tuesday</td>\n",
       "      <td>385.277778</td>\n",
       "    </tr>\n",
       "    <tr>\n",
       "      <th>6</th>\n",
       "      <td>Wednesday</td>\n",
       "      <td>310.000000</td>\n",
       "    </tr>\n",
       "  </tbody>\n",
       "</table>\n",
       "</div>"
      ],
      "text/plain": [
       "     WeekDay  TotalAmount\n",
       "0     Friday  2672.222222\n",
       "1     Monday  1500.000000\n",
       "2   Saturday   805.277778\n",
       "3     Sunday   375.277778\n",
       "4   Thursday  1560.555556\n",
       "5    Tuesday   385.277778\n",
       "6  Wednesday   310.000000"
      ]
     },
     "execution_count": 40,
     "metadata": {},
     "output_type": "execute_result"
    }
   ],
   "source": [
    "sales_trend_by_day = df.groupby('WeekDay')['TotalAmount'].sum().reset_index()\n",
    "sales_trend_by_day"
   ]
  },
  {
   "cell_type": "markdown",
   "id": "ac47933d-8a68-4e94-a263-c6706f2fcc76",
   "metadata": {},
   "source": [
    "## Data Validation"
   ]
  },
  {
   "cell_type": "code",
   "execution_count": 66,
   "id": "63619ae8-f15d-4315-9a49-60ed6f5e7bae",
   "metadata": {},
   "outputs": [],
   "source": [
    "# Validating calculated fields\n",
    "df['CalculatedTotal'] = df['Quantity'] * df['PricePerUnit']\n",
    "df['Validation'] = np.where(df['CalculatedTotal'] == df['TotalAmount'], True, False)\n",
    "\n",
    "df.drop(columns=['CalculatedTotal', 'Validation'], inplace=True)"
   ]
  },
  {
   "cell_type": "code",
   "execution_count": 41,
   "id": "fc58ac72-4701-47ae-a12a-285daa2ada22",
   "metadata": {},
   "outputs": [
    {
     "data": {
      "text/html": [
       "<div>\n",
       "<style scoped>\n",
       "    .dataframe tbody tr th:only-of-type {\n",
       "        vertical-align: middle;\n",
       "    }\n",
       "\n",
       "    .dataframe tbody tr th {\n",
       "        vertical-align: top;\n",
       "    }\n",
       "\n",
       "    .dataframe thead th {\n",
       "        text-align: right;\n",
       "    }\n",
       "</style>\n",
       "<table border=\"1\" class=\"dataframe\">\n",
       "  <thead>\n",
       "    <tr style=\"text-align: right;\">\n",
       "      <th></th>\n",
       "      <th>TransactionID</th>\n",
       "      <th>CustomerID</th>\n",
       "      <th>TransactionDate</th>\n",
       "      <th>ProductID</th>\n",
       "      <th>ProductCategory</th>\n",
       "      <th>Quantity</th>\n",
       "      <th>PricePerUnit</th>\n",
       "      <th>TotalAmount</th>\n",
       "      <th>TrustPointsUsed</th>\n",
       "      <th>PaymentMethod</th>\n",
       "      <th>DiscountApplied</th>\n",
       "      <th>Week</th>\n",
       "      <th>WeekDay</th>\n",
       "    </tr>\n",
       "  </thead>\n",
       "  <tbody>\n",
       "  </tbody>\n",
       "</table>\n",
       "</div>"
      ],
      "text/plain": [
       "Empty DataFrame\n",
       "Columns: [TransactionID, CustomerID, TransactionDate, ProductID, ProductCategory, Quantity, PricePerUnit, TotalAmount, TrustPointsUsed, PaymentMethod, DiscountApplied, Week, WeekDay]\n",
       "Index: []"
      ]
     },
     "execution_count": 41,
     "metadata": {},
     "output_type": "execute_result"
    }
   ],
   "source": [
    "#checking for duplicates\n",
    "duplicate = df[df.duplicated(['TransactionID'], keep=False)]\n",
    "duplicate"
   ]
  },
  {
   "cell_type": "markdown",
   "id": "f9af0ed0-0eee-4ec4-9d48-875f0a40ee42",
   "metadata": {},
   "source": [
    "No Duplicates found"
   ]
  },
  {
   "cell_type": "code",
   "execution_count": 64,
   "id": "9a1e4762-327f-4873-a794-ff2e17f8cff2",
   "metadata": {},
   "outputs": [
    {
     "data": {
      "text/html": [
       "<div>\n",
       "<style scoped>\n",
       "    .dataframe tbody tr th:only-of-type {\n",
       "        vertical-align: middle;\n",
       "    }\n",
       "\n",
       "    .dataframe tbody tr th {\n",
       "        vertical-align: top;\n",
       "    }\n",
       "\n",
       "    .dataframe thead th {\n",
       "        text-align: right;\n",
       "    }\n",
       "</style>\n",
       "<table border=\"1\" class=\"dataframe\">\n",
       "  <thead>\n",
       "    <tr style=\"text-align: right;\">\n",
       "      <th></th>\n",
       "      <th>TransactionID</th>\n",
       "      <th>TransactionDate</th>\n",
       "      <th>ProductID</th>\n",
       "      <th>Quantity</th>\n",
       "      <th>PricePerUnit</th>\n",
       "      <th>TotalAmount</th>\n",
       "      <th>TrustPointsUsed</th>\n",
       "      <th>DiscountApplied</th>\n",
       "      <th>Week</th>\n",
       "    </tr>\n",
       "  </thead>\n",
       "  <tbody>\n",
       "    <tr>\n",
       "      <th>count</th>\n",
       "      <td>50.00000</td>\n",
       "      <td>49</td>\n",
       "      <td>50.000000</td>\n",
       "      <td>50.000000</td>\n",
       "      <td>50.000000</td>\n",
       "      <td>50.000000</td>\n",
       "      <td>50.000000</td>\n",
       "      <td>50.000000</td>\n",
       "      <td>49.0</td>\n",
       "    </tr>\n",
       "    <tr>\n",
       "      <th>mean</th>\n",
       "      <td>25.50000</td>\n",
       "      <td>2024-08-05 15:31:50.204081920</td>\n",
       "      <td>2004.920000</td>\n",
       "      <td>1.420000</td>\n",
       "      <td>98.600000</td>\n",
       "      <td>155.277778</td>\n",
       "      <td>28.800000</td>\n",
       "      <td>21.500000</td>\n",
       "      <td>31.530612</td>\n",
       "    </tr>\n",
       "    <tr>\n",
       "      <th>min</th>\n",
       "      <td>1.00000</td>\n",
       "      <td>2024-08-01 04:00:00</td>\n",
       "      <td>2001.000000</td>\n",
       "      <td>-1.000000</td>\n",
       "      <td>10.000000</td>\n",
       "      <td>-500.000000</td>\n",
       "      <td>-10.000000</td>\n",
       "      <td>0.000000</td>\n",
       "      <td>31.0</td>\n",
       "    </tr>\n",
       "    <tr>\n",
       "      <th>25%</th>\n",
       "      <td>13.25000</td>\n",
       "      <td>2024-08-02 20:00:00</td>\n",
       "      <td>2003.000000</td>\n",
       "      <td>1.000000</td>\n",
       "      <td>30.000000</td>\n",
       "      <td>20.000000</td>\n",
       "      <td>0.000000</td>\n",
       "      <td>10.000000</td>\n",
       "      <td>31.0</td>\n",
       "    </tr>\n",
       "    <tr>\n",
       "      <th>50%</th>\n",
       "      <td>25.50000</td>\n",
       "      <td>2024-08-06 02:00:00</td>\n",
       "      <td>2005.000000</td>\n",
       "      <td>1.000000</td>\n",
       "      <td>30.000000</td>\n",
       "      <td>95.000000</td>\n",
       "      <td>20.000000</td>\n",
       "      <td>20.000000</td>\n",
       "      <td>32.0</td>\n",
       "    </tr>\n",
       "    <tr>\n",
       "      <th>75%</th>\n",
       "      <td>37.75000</td>\n",
       "      <td>2024-08-07 18:00:00</td>\n",
       "      <td>2007.000000</td>\n",
       "      <td>2.000000</td>\n",
       "      <td>50.000000</td>\n",
       "      <td>155.277778</td>\n",
       "      <td>50.000000</td>\n",
       "      <td>30.000000</td>\n",
       "      <td>32.0</td>\n",
       "    </tr>\n",
       "    <tr>\n",
       "      <th>max</th>\n",
       "      <td>50.00000</td>\n",
       "      <td>2024-08-10 00:00:00</td>\n",
       "      <td>2008.000000</td>\n",
       "      <td>5.000000</td>\n",
       "      <td>500.000000</td>\n",
       "      <td>1500.000000</td>\n",
       "      <td>100.000000</td>\n",
       "      <td>50.000000</td>\n",
       "      <td>32.0</td>\n",
       "    </tr>\n",
       "    <tr>\n",
       "      <th>std</th>\n",
       "      <td>14.57738</td>\n",
       "      <td>NaN</td>\n",
       "      <td>2.284285</td>\n",
       "      <td>1.263135</td>\n",
       "      <td>164.899598</td>\n",
       "      <td>297.153064</td>\n",
       "      <td>39.467889</td>\n",
       "      <td>14.991494</td>\n",
       "      <td>0.504234</td>\n",
       "    </tr>\n",
       "  </tbody>\n",
       "</table>\n",
       "</div>"
      ],
      "text/plain": [
       "       TransactionID                TransactionDate    ProductID   Quantity  \\\n",
       "count       50.00000                             49    50.000000  50.000000   \n",
       "mean        25.50000  2024-08-05 15:31:50.204081920  2004.920000   1.420000   \n",
       "min          1.00000            2024-08-01 04:00:00  2001.000000  -1.000000   \n",
       "25%         13.25000            2024-08-02 20:00:00  2003.000000   1.000000   \n",
       "50%         25.50000            2024-08-06 02:00:00  2005.000000   1.000000   \n",
       "75%         37.75000            2024-08-07 18:00:00  2007.000000   2.000000   \n",
       "max         50.00000            2024-08-10 00:00:00  2008.000000   5.000000   \n",
       "std         14.57738                            NaN     2.284285   1.263135   \n",
       "\n",
       "       PricePerUnit  TotalAmount  TrustPointsUsed  DiscountApplied       Week  \n",
       "count     50.000000    50.000000        50.000000        50.000000       49.0  \n",
       "mean      98.600000   155.277778        28.800000        21.500000  31.530612  \n",
       "min       10.000000  -500.000000       -10.000000         0.000000       31.0  \n",
       "25%       30.000000    20.000000         0.000000        10.000000       31.0  \n",
       "50%       30.000000    95.000000        20.000000        20.000000       32.0  \n",
       "75%       50.000000   155.277778        50.000000        30.000000       32.0  \n",
       "max      500.000000  1500.000000       100.000000        50.000000       32.0  \n",
       "std      164.899598   297.153064        39.467889        14.991494   0.504234  "
      ]
     },
     "execution_count": 64,
     "metadata": {},
     "output_type": "execute_result"
    }
   ],
   "source": [
    "df.describe()"
   ]
  },
  {
   "cell_type": "code",
   "execution_count": 42,
   "id": "542110df-14b9-42df-b982-c5ad3d6da663",
   "metadata": {},
   "outputs": [
    {
     "data": {
      "text/plain": [
       "TransactionID               int64\n",
       "CustomerID                 object\n",
       "TransactionDate    datetime64[ns]\n",
       "ProductID                   int64\n",
       "ProductCategory            object\n",
       "Quantity                    int64\n",
       "PricePerUnit              float64\n",
       "TotalAmount               float64\n",
       "TrustPointsUsed             int64\n",
       "PaymentMethod              object\n",
       "DiscountApplied           float64\n",
       "Week                       UInt32\n",
       "WeekDay                    object\n",
       "dtype: object"
      ]
     },
     "execution_count": 42,
     "metadata": {},
     "output_type": "execute_result"
    }
   ],
   "source": [
    "df.dtypes"
   ]
  },
  {
   "cell_type": "code",
   "execution_count": 43,
   "id": "eea083b1-7275-434d-baa6-12915b3e34e9",
   "metadata": {},
   "outputs": [
    {
     "data": {
      "text/html": [
       "<div>\n",
       "<style scoped>\n",
       "    .dataframe tbody tr th:only-of-type {\n",
       "        vertical-align: middle;\n",
       "    }\n",
       "\n",
       "    .dataframe tbody tr th {\n",
       "        vertical-align: top;\n",
       "    }\n",
       "\n",
       "    .dataframe thead th {\n",
       "        text-align: right;\n",
       "    }\n",
       "</style>\n",
       "<table border=\"1\" class=\"dataframe\">\n",
       "  <thead>\n",
       "    <tr style=\"text-align: right;\">\n",
       "      <th></th>\n",
       "      <th>TransactionID</th>\n",
       "      <th>CustomerID</th>\n",
       "      <th>TransactionDate</th>\n",
       "      <th>ProductID</th>\n",
       "      <th>ProductCategory</th>\n",
       "      <th>Quantity</th>\n",
       "      <th>PricePerUnit</th>\n",
       "      <th>TotalAmount</th>\n",
       "      <th>TrustPointsUsed</th>\n",
       "      <th>PaymentMethod</th>\n",
       "      <th>DiscountApplied</th>\n",
       "      <th>Week</th>\n",
       "      <th>WeekDay</th>\n",
       "    </tr>\n",
       "  </thead>\n",
       "  <tbody>\n",
       "    <tr>\n",
       "      <th>6</th>\n",
       "      <td>7</td>\n",
       "      <td>1001.0</td>\n",
       "      <td>2024-08-01 13:00:00</td>\n",
       "      <td>2007</td>\n",
       "      <td>Home Decor</td>\n",
       "      <td>-1</td>\n",
       "      <td>30.0</td>\n",
       "      <td>-30.000000</td>\n",
       "      <td>-10</td>\n",
       "      <td>NaN</td>\n",
       "      <td>0.0</td>\n",
       "      <td>31</td>\n",
       "      <td>Thursday</td>\n",
       "    </tr>\n",
       "    <tr>\n",
       "      <th>34</th>\n",
       "      <td>35</td>\n",
       "      <td>NoID</td>\n",
       "      <td>2024-08-06 08:00:00</td>\n",
       "      <td>2002</td>\n",
       "      <td>Electronics</td>\n",
       "      <td>-1</td>\n",
       "      <td>500.0</td>\n",
       "      <td>-500.000000</td>\n",
       "      <td>100</td>\n",
       "      <td>Trust Points</td>\n",
       "      <td>30.0</td>\n",
       "      <td>32</td>\n",
       "      <td>Tuesday</td>\n",
       "    </tr>\n",
       "    <tr>\n",
       "      <th>38</th>\n",
       "      <td>39</td>\n",
       "      <td>1004.0</td>\n",
       "      <td>2024-08-06 18:00:00</td>\n",
       "      <td>2007</td>\n",
       "      <td>Home Decor</td>\n",
       "      <td>-1</td>\n",
       "      <td>10.0</td>\n",
       "      <td>-10.000000</td>\n",
       "      <td>20</td>\n",
       "      <td>Credit Card</td>\n",
       "      <td>20.0</td>\n",
       "      <td>32</td>\n",
       "      <td>Tuesday</td>\n",
       "    </tr>\n",
       "    <tr>\n",
       "      <th>48</th>\n",
       "      <td>49</td>\n",
       "      <td>1003.0</td>\n",
       "      <td>2024-08-06 14:00:00</td>\n",
       "      <td>2007</td>\n",
       "      <td>Electronics</td>\n",
       "      <td>-1</td>\n",
       "      <td>30.0</td>\n",
       "      <td>155.277778</td>\n",
       "      <td>0</td>\n",
       "      <td>Cash</td>\n",
       "      <td>20.0</td>\n",
       "      <td>32</td>\n",
       "      <td>Tuesday</td>\n",
       "    </tr>\n",
       "  </tbody>\n",
       "</table>\n",
       "</div>"
      ],
      "text/plain": [
       "    TransactionID CustomerID     TransactionDate  ProductID ProductCategory  \\\n",
       "6               7     1001.0 2024-08-01 13:00:00       2007      Home Decor   \n",
       "34             35       NoID 2024-08-06 08:00:00       2002     Electronics   \n",
       "38             39     1004.0 2024-08-06 18:00:00       2007      Home Decor   \n",
       "48             49     1003.0 2024-08-06 14:00:00       2007     Electronics   \n",
       "\n",
       "    Quantity  PricePerUnit  TotalAmount  TrustPointsUsed PaymentMethod  \\\n",
       "6         -1          30.0   -30.000000              -10           NaN   \n",
       "34        -1         500.0  -500.000000              100  Trust Points   \n",
       "38        -1          10.0   -10.000000               20   Credit Card   \n",
       "48        -1          30.0   155.277778                0          Cash   \n",
       "\n",
       "    DiscountApplied  Week   WeekDay  \n",
       "6               0.0    31  Thursday  \n",
       "34             30.0    32   Tuesday  \n",
       "38             20.0    32   Tuesday  \n",
       "48             20.0    32   Tuesday  "
      ]
     },
     "execution_count": 43,
     "metadata": {},
     "output_type": "execute_result"
    }
   ],
   "source": [
    "negative_values = df[(df['Quantity'] < 0) | (df['TotalAmount'] < 0)]\n",
    "negative_values"
   ]
  },
  {
   "cell_type": "markdown",
   "id": "f4c8f555-ba60-4ea4-af37-cd671a3e3c5f",
   "metadata": {},
   "source": [
    "Total Returned orders were 4. Hence, validated."
   ]
  },
  {
   "cell_type": "markdown",
   "id": "16bea4ea-374a-4e55-9a48-bf49fc3d7c4d",
   "metadata": {},
   "source": [
    "## Data Visualisation"
   ]
  },
  {
   "cell_type": "code",
   "execution_count": 44,
   "id": "1adf8e00-7b5f-47a5-9bce-c6104113c11d",
   "metadata": {},
   "outputs": [
    {
     "name": "stderr",
     "output_type": "stream",
     "text": [
      "C:\\Users\\User\\anaconda3\\Lib\\site-packages\\seaborn\\_oldcore.py:1119: FutureWarning: use_inf_as_na option is deprecated and will be removed in a future version. Convert inf values to NaN before operating instead.\n",
      "  with pd.option_context('mode.use_inf_as_na', True):\n",
      "C:\\Users\\User\\anaconda3\\Lib\\site-packages\\seaborn\\_oldcore.py:1119: FutureWarning: use_inf_as_na option is deprecated and will be removed in a future version. Convert inf values to NaN before operating instead.\n",
      "  with pd.option_context('mode.use_inf_as_na', True):\n"
     ]
    },
    {
     "data": {
      "image/png": "[encoded data removed]",
      "text/plain": [
       "<Figure size 800x300 with 1 Axes>"
      ]
     },
     "metadata": {},
     "output_type": "display_data"
    }
   ],
   "source": [
    "plt.figure(figsize=(8, 3))\n",
    "sns.lineplot(data=sales_trend, x='TransactionDate', y='TotalAmount', marker='x')\n",
    "plt.title('Sales Trend by TransactionDate')\n",
    "plt.xlabel('TransactionID')\n",
    "plt.ylabel('Total Amount')\n",
    "plt.xticks(rotation=45)\n",
    "plt.show()"
   ]
  },
  {
   "cell_type": "code",
   "execution_count": 45,
   "id": "33fca9da-60da-407c-8b7e-0f8e3da5a644",
   "metadata": {},
   "outputs": [
    {
     "name": "stderr",
     "output_type": "stream",
     "text": [
      "C:\\Users\\User\\anaconda3\\Lib\\site-packages\\seaborn\\_oldcore.py:1119: FutureWarning: use_inf_as_na option is deprecated and will be removed in a future version. Convert inf values to NaN before operating instead.\n",
      "  with pd.option_context('mode.use_inf_as_na', True):\n",
      "C:\\Users\\User\\anaconda3\\Lib\\site-packages\\seaborn\\_oldcore.py:1119: FutureWarning: use_inf_as_na option is deprecated and will be removed in a future version. Convert inf values to NaN before operating instead.\n",
      "  with pd.option_context('mode.use_inf_as_na', True):\n"
     ]
    },
    {
     "data": {
      "image/png": "[encoded data removed]",
      "text/plain": [
       "<Figure size 800x300 with 1 Axes>"
      ]
     },
     "metadata": {},
     "output_type": "display_data"
    }
   ],
   "source": [
    "plt.figure(figsize=(8, 3))\n",
    "sns.lineplot(data=sales_trend_by_day, x='WeekDay', y='TotalAmount', marker='o')\n",
    "plt.title('Sales Trend by Day')\n",
    "plt.xlabel('Day')\n",
    "plt.ylabel('Total Amount')\n",
    "plt.xticks(rotation=45)\n",
    "plt.show()"
   ]
  },
  {
   "cell_type": "code",
   "execution_count": 46,
   "id": "d6411709-52d5-48b1-9d60-ef31f8e4b33f",
   "metadata": {},
   "outputs": [],
   "source": [
    "payment_percentages = payment_methods / payment_methods.sum() * 100"
   ]
  },
  {
   "cell_type": "code",
   "execution_count": 47,
   "id": "3f8560e7-4e4d-427b-a500-fefe698358c9",
   "metadata": {},
   "outputs": [],
   "source": [
    "payment_method = df['PaymentMethod'].unique()"
   ]
  },
  {
   "cell_type": "code",
   "execution_count": 48,
   "id": "0b14c714-a374-4af7-8520-8fe8cae04d48",
   "metadata": {},
   "outputs": [
    {
     "data": {
      "image/png": "[encoded data removed]",
      "text/plain": [
       "<Figure size 400x400 with 1 Axes>"
      ]
     },
     "metadata": {},
     "output_type": "display_data"
    }
   ],
   "source": [
    "labels = payment_method\n",
    "sizes = payment_percentages.values\n",
    "colors = sns.color_palette('pastel')[0:len(labels)]\n",
    "\n",
    "sns.set(style=\"whitegrid\")\n",
    "plt.figure(figsize=(4, 4))\n",
    "plt.pie(sizes, labels=labels, colors=colors, autopct='%1.1f%%', startangle=140)\n",
    "plt.title('Payment Method Distribution')\n",
    "plt.show()"
   ]
  },
  {
   "cell_type": "code",
   "execution_count": 49,
   "id": "99ad3990-c63c-470f-a854-8d2d086902b0",
   "metadata": {},
   "outputs": [
    {
     "data": {
      "image/png": "[encoded data removed]",
      "text/plain": [
       "<Figure size 800x400 with 1 Axes>"
      ]
     },
     "metadata": {},
     "output_type": "display_data"
    }
   ],
   "source": [
    "plt.figure(figsize=(8, 4))\n",
    "sns.barplot(x='TotalAmount', y='ProductCategory', data=Product_summary)\n",
    "plt.xlabel('Total Amount')\n",
    "plt.ylabel('Product Category')\n",
    "plt.title('Total Revenue by Product Category')\n",
    "plt.show()"
   ]
  },
  {
   "cell_type": "code",
   "execution_count": 50,
   "id": "761a19e6-0f88-4f5d-a208-356840145923",
   "metadata": {},
   "outputs": [
    {
     "data": {
      "image/png": "[encoded data removed]",
      "text/plain": [
       "<Figure size 800x400 with 1 Axes>"
      ]
     },
     "metadata": {},
     "output_type": "display_data"
    }
   ],
   "source": [
    "plt.figure(figsize=(8, 4))\n",
    "sns.barplot(x='Quantity', y='ProductCategory', data=Product_summary, palette='viridis')\n",
    "plt.xlabel('Quantity Sold')\n",
    "plt.ylabel('Product Category')\n",
    "plt.title('Quantity Sold by Product Category')\n",
    "plt.show()"
   ]
  },
  {
   "cell_type": "code",
   "execution_count": 51,
   "id": "4606b8f7-2ea7-437a-a843-8a0e0cdcaf9b",
   "metadata": {},
   "outputs": [
    {
     "data": {
      "image/png": "[encoded data removed]",
      "text/plain": [
       "<Figure size 800x400 with 1 Axes>"
      ]
     },
     "metadata": {},
     "output_type": "display_data"
    }
   ],
   "source": [
    "plt.figure(figsize=(8, 4))\n",
    "sns.barplot(x='TotalAmount', y='CustomerID', data=customer_summary, palette='viridis')\n",
    "plt.xlabel('Total Amount')\n",
    "plt.ylabel('Customer ID')\n",
    "plt.title('Total Amount Spent by Customer')\n",
    "plt.show()\n"
   ]
  },
  {
   "cell_type": "code",
   "execution_count": 52,
   "id": "ccd87e1c-25f2-4195-add9-b7e4d8c9255b",
   "metadata": {},
   "outputs": [
    {
     "data": {
      "image/png": "[encoded data removed]",
      "text/plain": [
       "<Figure size 800x400 with 1 Axes>"
      ]
     },
     "metadata": {},
     "output_type": "display_data"
    }
   ],
   "source": [
    "plt.figure(figsize=(8, 4))\n",
    "sns.barplot(x='Quantity', y='CustomerID', data=customer_summary, palette='viridis')\n",
    "plt.xlabel('Quantity Purchased')\n",
    "plt.ylabel('Customer ID')\n",
    "plt.title('Quantity Purchased by Customer')\n",
    "plt.show()"
   ]
  },
  {
   "cell_type": "markdown",
   "id": "c7b411d6-9b23-4dee-80ee-42face4cd405",
   "metadata": {},
   "source": [
    "Identifying linearity:"
   ]
  },
  {
   "cell_type": "code",
   "execution_count": 53,
   "id": "e11310a0-aebc-43f9-9a8c-6cd7a9bb417b",
   "metadata": {},
   "outputs": [
    {
     "data": {
      "image/png": "[encoded data removed]",
      "text/plain": [
       "<Figure size 500x500 with 1 Axes>"
      ]
     },
     "metadata": {},
     "output_type": "display_data"
    }
   ],
   "source": [
    "sns.lmplot(x='Quantity', y='TotalAmount', data=df)\n",
    "plt.show()"
   ]
  },
  {
   "cell_type": "markdown",
   "id": "503a8300-4b85-4677-8ad7-59e1d3ea8d22",
   "metadata": {},
   "source": [
    "The blue line represents the linear projection and the shaded area represents the confidence interval, indicating the uncertainty of the projection."
   ]
  }
 ],
 "metadata": {
  "kernelspec": {
   "display_name": "Python 3 (ipykernel)",
   "language": "python",
   "name": "python3"
  },
  "language_info": {
   "codemirror_mode": {
    "name": "ipython",
    "version": 3
   },
   "file_extension": ".py",
   "mimetype": "text/x-python",
   "name": "python",
   "nbconvert_exporter": "python",
   "pygments_lexer": "ipython3",
   "version": "3.11.7"
  }
 },
 "nbformat": 4,
 "nbformat_minor": 5
}
